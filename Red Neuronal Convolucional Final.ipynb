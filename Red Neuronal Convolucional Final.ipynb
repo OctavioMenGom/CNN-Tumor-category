{
 "cells": [
  {
   "cell_type": "markdown",
   "metadata": {},
   "source": [
    "# Red neuronal aplicada al reconocimiento de imagenes\n",
    "\n"
   ]
  },
  {
   "cell_type": "markdown",
   "metadata": {},
   "source": [
    "## Codigo"
   ]
  },
  {
   "cell_type": "code",
   "execution_count": 1,
   "metadata": {
    "ExecuteTime": {
     "end_time": "2021-03-24T18:26:19.984874Z",
     "start_time": "2021-03-24T18:26:07.155645Z"
    }
   },
   "outputs": [],
   "source": [
    "import numpy as np\n",
    "import pandas as pd\n",
    "import matplotlib.pyplot as plt\n",
    "import tensorflow as tf\n",
    "from tensorflow import keras\n",
    "from PIL import Image\n",
    "from tensorflow.keras.preprocessing.image import ImageDataGenerator\n",
    "from tensorflow.keras.preprocessing import image\n",
    "import os\n",
    "import logging\n",
    "logger = tf.get_logger()\n",
    "logger.setLevel(logging.ERROR)"
   ]
  },
  {
   "cell_type": "code",
   "execution_count": 2,
   "metadata": {
    "ExecuteTime": {
     "end_time": "2021-03-24T18:26:20.110437Z",
     "start_time": "2021-03-24T18:26:20.064435Z"
    }
   },
   "outputs": [],
   "source": [
    "val_dir=\"C:/Users/octav/OneDrive/Documentos/Uni/Titulación/Tesis/RN1BC/validation/\"\n",
    "train_dir = 'C:/Users/octav/OneDrive/Documentos/Uni/Titulación/Tesis/RN1BC/training/'\n",
    "test_dir = 'C:/Users/octav/OneDrive/Documentos/Uni/Titulación/Tesis/RN1BC/test'\n",
    "\n",
    "\n",
    "train_dir_b = train_dir + \"/benign\"\n",
    "train_dir_m = train_dir + \"/malign\"\n",
    "\n",
    "val_dir_b = val_dir + \"/benign\"\n",
    "val_dir_m = val_dir + \"/malign\"\n",
    "\n",
    "num_b_tr = len(os.listdir(train_dir_b))\n",
    "num_m_tr = len(os.listdir(train_dir_m))\n",
    "\n",
    "num_tst= len(os.listdir(test_dir))"
   ]
  },
  {
   "cell_type": "code",
   "execution_count": 3,
   "metadata": {
    "ExecuteTime": {
     "end_time": "2021-03-24T18:26:20.238451Z",
     "start_time": "2021-03-24T18:26:20.213448Z"
    }
   },
   "outputs": [
    {
     "data": {
      "text/plain": [
       "(1479, 1479)"
      ]
     },
     "execution_count": 3,
     "metadata": {},
     "output_type": "execute_result"
    }
   ],
   "source": [
    "num_b_tr,num_m_tr"
   ]
  },
  {
   "cell_type": "code",
   "execution_count": 4,
   "metadata": {
    "ExecuteTime": {
     "end_time": "2021-03-24T18:26:20.362460Z",
     "start_time": "2021-03-24T18:26:20.319456Z"
    }
   },
   "outputs": [],
   "source": [
    "num_b_vl = len(os.listdir(val_dir_b))\n",
    "num_m_vl = len(os.listdir(val_dir_m))"
   ]
  },
  {
   "cell_type": "code",
   "execution_count": 5,
   "metadata": {
    "ExecuteTime": {
     "end_time": "2021-03-24T18:26:20.458466Z",
     "start_time": "2021-03-24T18:26:20.445468Z"
    }
   },
   "outputs": [
    {
     "data": {
      "text/plain": [
       "(493, 493)"
      ]
     },
     "execution_count": 5,
     "metadata": {},
     "output_type": "execute_result"
    }
   ],
   "source": [
    "num_b_vl,num_m_vl"
   ]
  },
  {
   "cell_type": "code",
   "execution_count": 6,
   "metadata": {
    "ExecuteTime": {
     "end_time": "2021-03-24T18:26:20.568475Z",
     "start_time": "2021-03-24T18:26:20.540476Z"
    }
   },
   "outputs": [
    {
     "data": {
      "text/plain": [
       "(2958, 986)"
      ]
     },
     "execution_count": 6,
     "metadata": {},
     "output_type": "execute_result"
    }
   ],
   "source": [
    "total_train = num_b_tr+num_m_tr\n",
    "total_val = num_b_vl+num_m_vl\n",
    "total_train, total_val"
   ]
  },
  {
   "cell_type": "code",
   "execution_count": 7,
   "metadata": {
    "ExecuteTime": {
     "end_time": "2021-03-24T18:26:20.726489Z",
     "start_time": "2021-03-24T18:26:20.649484Z"
    }
   },
   "outputs": [
    {
     "data": {
      "text/plain": [
       "986"
      ]
     },
     "execution_count": 7,
     "metadata": {},
     "output_type": "execute_result"
    }
   ],
   "source": [
    "num_tst"
   ]
  },
  {
   "cell_type": "code",
   "execution_count": 8,
   "metadata": {
    "ExecuteTime": {
     "end_time": "2021-03-24T18:26:20.868501Z",
     "start_time": "2021-03-24T18:26:20.822497Z"
    }
   },
   "outputs": [],
   "source": [
    "data_generator = ImageDataGenerator(rescale=1./250,zoom_range=0.2)"
   ]
  },
  {
   "cell_type": "code",
   "execution_count": 9,
   "metadata": {
    "ExecuteTime": {
     "end_time": "2021-03-24T18:26:21.426544Z",
     "start_time": "2021-03-24T18:26:20.951509Z"
    }
   },
   "outputs": [],
   "source": [
    "Model = tf.keras.Sequential([\n",
    "    tf.keras.layers.Conv2D(32,(3,3),activation='relu',input_shape=(150,150,3)),\n",
    "    tf.keras.layers.MaxPooling2D(2,2),\n",
    "\n",
    "tf.keras.layers.Conv2D(32,(3,3),activation='relu'),\n",
    "tf.keras.layers.MaxPooling2D(2,2),\n",
    "    \n",
    "tf.keras.layers.Conv2D(128,(3,3),activation='relu'),\n",
    "tf.keras.layers.MaxPooling2D(2,2),\n",
    "\n",
    "tf.keras.layers.Flatten(),\n",
    "tf.keras.layers.Dense(512,activation='softmax')\n",
    "\n",
    "])"
   ]
  },
  {
   "cell_type": "code",
   "execution_count": 10,
   "metadata": {
    "ExecuteTime": {
     "end_time": "2021-03-24T18:26:21.990592Z",
     "start_time": "2021-03-24T18:26:21.506552Z"
    }
   },
   "outputs": [
    {
     "name": "stdout",
     "output_type": "stream",
     "text": [
      "Found 986 images belonging to 2 classes.\n",
      "Found 2958 images belonging to 2 classes.\n"
     ]
    }
   ],
   "source": [
    "batch= 100\n",
    "img_shape = 150\n",
    "Model.compile(optimizer = 'adam',loss='sparse_categorical_crossentropy',metrics=['accuracy'])\n",
    "EPOCHS = 25\n",
    "val_data_gen = data_generator.flow_from_directory(batch_size =batch,\n",
    "                                                            directory=val_dir,\n",
    "                                                            shuffle = False,\n",
    "                                                            target_size = (img_shape,img_shape),\n",
    "                                                            class_mode = 'binary')\n",
    "\n",
    "train_data_gen = data_generator.flow_from_directory(batch_size=batch,\n",
    "                                                               directory=train_dir,\n",
    "                                                               shuffle = True,\n",
    "                                                               target_size = (img_shape,img_shape),\n",
    "                                                               class_mode = 'binary')"
   ]
  },
  {
   "cell_type": "code",
   "execution_count": 11,
   "metadata": {
    "ExecuteTime": {
     "start_time": "2021-03-24T18:26:11.907Z"
    }
   },
   "outputs": [
    {
     "name": "stdout",
     "output_type": "stream",
     "text": [
      "Epoch 1/25\n",
      "30/30 [==============================] - 154s 5s/step - loss: 1.0211 - accuracy: 0.5632 - val_loss: 0.4463 - val_accuracy: 0.8073\n",
      "Epoch 2/25\n",
      "30/30 [==============================] - 101s 3s/step - loss: 0.5294 - accuracy: 0.7539 - val_loss: 0.5786 - val_accuracy: 0.6653\n",
      "Epoch 3/25\n",
      "30/30 [==============================] - 95s 3s/step - loss: 0.5377 - accuracy: 0.7235 - val_loss: 0.4030 - val_accuracy: 0.8398\n",
      "Epoch 4/25\n",
      "30/30 [==============================] - 94s 3s/step - loss: 0.4749 - accuracy: 0.7833 - val_loss: 0.3321 - val_accuracy: 0.8600\n",
      "Epoch 5/25\n",
      "30/30 [==============================] - 93s 3s/step - loss: 0.4433 - accuracy: 0.7982 - val_loss: 0.3120 - val_accuracy: 0.8732\n",
      "Epoch 6/25\n",
      "30/30 [==============================] - 94s 3s/step - loss: 0.4407 - accuracy: 0.8005 - val_loss: 0.3116 - val_accuracy: 0.8732\n",
      "Epoch 7/25\n",
      "30/30 [==============================] - 93s 3s/step - loss: 0.4352 - accuracy: 0.7978 - val_loss: 0.2905 - val_accuracy: 0.8793\n",
      "Epoch 8/25\n",
      "30/30 [==============================] - 106s 4s/step - loss: 0.4041 - accuracy: 0.8093 - val_loss: 0.2823 - val_accuracy: 0.8854\n",
      "Epoch 9/25\n",
      "30/30 [==============================] - 97s 3s/step - loss: 0.3810 - accuracy: 0.8239 - val_loss: 0.3140 - val_accuracy: 0.8864\n",
      "Epoch 10/25\n",
      "30/30 [==============================] - 93s 3s/step - loss: 0.3870 - accuracy: 0.8205 - val_loss: 0.2665 - val_accuracy: 0.9097\n",
      "Epoch 11/25\n",
      "30/30 [==============================] - 94s 3s/step - loss: 0.3592 - accuracy: 0.8350 - val_loss: 0.2938 - val_accuracy: 0.8813\n",
      "Epoch 12/25\n",
      "30/30 [==============================] - 92s 3s/step - loss: 0.3629 - accuracy: 0.8300 - val_loss: 0.2460 - val_accuracy: 0.8976\n",
      "Epoch 13/25\n",
      "30/30 [==============================] - 95s 3s/step - loss: 0.3403 - accuracy: 0.8401 - val_loss: 0.4997 - val_accuracy: 0.7414\n",
      "Epoch 14/25\n",
      "30/30 [==============================] - 94s 3s/step - loss: 0.3795 - accuracy: 0.8262 - val_loss: 0.2423 - val_accuracy: 0.8996\n",
      "Epoch 15/25\n",
      "30/30 [==============================] - 93s 3s/step - loss: 0.3247 - accuracy: 0.8452 - val_loss: 0.2845 - val_accuracy: 0.8813\n",
      "Epoch 16/25\n",
      "30/30 [==============================] - 93s 3s/step - loss: 0.3230 - accuracy: 0.8556 - val_loss: 0.2377 - val_accuracy: 0.9168\n",
      "Epoch 17/25\n",
      "30/30 [==============================] - 93s 3s/step - loss: 0.3253 - accuracy: 0.8536 - val_loss: 0.1971 - val_accuracy: 0.9158\n",
      "Epoch 18/25\n",
      "30/30 [==============================] - 93s 3s/step - loss: 0.3967 - accuracy: 0.8168 - val_loss: 0.1911 - val_accuracy: 0.9290\n",
      "Epoch 19/25\n",
      "30/30 [==============================] - 93s 3s/step - loss: 0.3208 - accuracy: 0.8597 - val_loss: 0.2171 - val_accuracy: 0.9026\n",
      "Epoch 20/25\n",
      "30/30 [==============================] - 93s 3s/step - loss: 0.2925 - accuracy: 0.8678 - val_loss: 0.1711 - val_accuracy: 0.9391\n",
      "Epoch 21/25\n",
      "30/30 [==============================] - 93s 3s/step - loss: 0.3087 - accuracy: 0.8631 - val_loss: 0.1854 - val_accuracy: 0.9320\n",
      "Epoch 22/25\n",
      "30/30 [==============================] - 93s 3s/step - loss: 0.3001 - accuracy: 0.8597 - val_loss: 0.4756 - val_accuracy: 0.7404\n",
      "Epoch 23/25\n",
      "30/30 [==============================] - 93s 3s/step - loss: 0.3782 - accuracy: 0.8323 - val_loss: 0.1843 - val_accuracy: 0.9442\n",
      "Epoch 24/25\n",
      "30/30 [==============================] - 94s 3s/step - loss: 0.2715 - accuracy: 0.8918 - val_loss: 0.1580 - val_accuracy: 0.9483\n",
      "Epoch 25/25\n",
      "30/30 [==============================] - 93s 3s/step - loss: 0.2458 - accuracy: 0.8966 - val_loss: 0.1618 - val_accuracy: 0.9503\n"
     ]
    }
   ],
   "source": [
    "history = Model.fit(\n",
    "    train_data_gen,\n",
    "    steps_per_epoch=int(np.ceil(total_train / float(batch))),\n",
    "    epochs=EPOCHS,\n",
    "    validation_data=val_data_gen,\n",
    "    validation_steps=int(np.ceil(total_val / float(batch))))"
   ]
  },
  {
   "cell_type": "markdown",
   "metadata": {},
   "source": [
    "### Gráfica y predicción prueba 1"
   ]
  },
  {
   "cell_type": "code",
   "execution_count": 12,
   "metadata": {
    "ExecuteTime": {
     "end_time": "2021-03-24T18:25:47.514104Z",
     "start_time": "2021-03-24T18:25:47.499102Z"
    }
   },
   "outputs": [
    {
     "data": {
      "text/html": [
       "<div>\n",
       "<style scoped>\n",
       "    .dataframe tbody tr th:only-of-type {\n",
       "        vertical-align: middle;\n",
       "    }\n",
       "\n",
       "    .dataframe tbody tr th {\n",
       "        vertical-align: top;\n",
       "    }\n",
       "\n",
       "    .dataframe thead th {\n",
       "        text-align: right;\n",
       "    }\n",
       "</style>\n",
       "<table border=\"1\" class=\"dataframe\">\n",
       "  <thead>\n",
       "    <tr style=\"text-align: right;\">\n",
       "      <th></th>\n",
       "      <th>Costo de Entrenamiento</th>\n",
       "      <th>Costo de Validación</th>\n",
       "      <th>Precisión del Entrenamiento</th>\n",
       "      <th>Precisión de la Validación</th>\n",
       "    </tr>\n",
       "  </thead>\n",
       "  <tbody>\n",
       "    <tr>\n",
       "      <th>0</th>\n",
       "      <td>1.021070</td>\n",
       "      <td>0.446301</td>\n",
       "      <td>0.563218</td>\n",
       "      <td>0.807302</td>\n",
       "    </tr>\n",
       "    <tr>\n",
       "      <th>1</th>\n",
       "      <td>0.529430</td>\n",
       "      <td>0.578603</td>\n",
       "      <td>0.753888</td>\n",
       "      <td>0.665314</td>\n",
       "    </tr>\n",
       "    <tr>\n",
       "      <th>2</th>\n",
       "      <td>0.537686</td>\n",
       "      <td>0.403038</td>\n",
       "      <td>0.723462</td>\n",
       "      <td>0.839757</td>\n",
       "    </tr>\n",
       "    <tr>\n",
       "      <th>3</th>\n",
       "      <td>0.474922</td>\n",
       "      <td>0.332125</td>\n",
       "      <td>0.783300</td>\n",
       "      <td>0.860041</td>\n",
       "    </tr>\n",
       "    <tr>\n",
       "      <th>4</th>\n",
       "      <td>0.443296</td>\n",
       "      <td>0.312038</td>\n",
       "      <td>0.798174</td>\n",
       "      <td>0.873225</td>\n",
       "    </tr>\n",
       "    <tr>\n",
       "      <th>5</th>\n",
       "      <td>0.440682</td>\n",
       "      <td>0.311597</td>\n",
       "      <td>0.800541</td>\n",
       "      <td>0.873225</td>\n",
       "    </tr>\n",
       "    <tr>\n",
       "      <th>6</th>\n",
       "      <td>0.435189</td>\n",
       "      <td>0.290542</td>\n",
       "      <td>0.797836</td>\n",
       "      <td>0.879310</td>\n",
       "    </tr>\n",
       "    <tr>\n",
       "      <th>7</th>\n",
       "      <td>0.404070</td>\n",
       "      <td>0.282291</td>\n",
       "      <td>0.809331</td>\n",
       "      <td>0.885396</td>\n",
       "    </tr>\n",
       "    <tr>\n",
       "      <th>8</th>\n",
       "      <td>0.381010</td>\n",
       "      <td>0.314023</td>\n",
       "      <td>0.823867</td>\n",
       "      <td>0.886410</td>\n",
       "    </tr>\n",
       "    <tr>\n",
       "      <th>9</th>\n",
       "      <td>0.386987</td>\n",
       "      <td>0.266494</td>\n",
       "      <td>0.820487</td>\n",
       "      <td>0.909736</td>\n",
       "    </tr>\n",
       "    <tr>\n",
       "      <th>10</th>\n",
       "      <td>0.359205</td>\n",
       "      <td>0.293760</td>\n",
       "      <td>0.835024</td>\n",
       "      <td>0.881339</td>\n",
       "    </tr>\n",
       "    <tr>\n",
       "      <th>11</th>\n",
       "      <td>0.362902</td>\n",
       "      <td>0.246047</td>\n",
       "      <td>0.829953</td>\n",
       "      <td>0.897566</td>\n",
       "    </tr>\n",
       "    <tr>\n",
       "      <th>12</th>\n",
       "      <td>0.340267</td>\n",
       "      <td>0.499690</td>\n",
       "      <td>0.840095</td>\n",
       "      <td>0.741379</td>\n",
       "    </tr>\n",
       "    <tr>\n",
       "      <th>13</th>\n",
       "      <td>0.379522</td>\n",
       "      <td>0.242346</td>\n",
       "      <td>0.826234</td>\n",
       "      <td>0.899594</td>\n",
       "    </tr>\n",
       "    <tr>\n",
       "      <th>14</th>\n",
       "      <td>0.324664</td>\n",
       "      <td>0.284520</td>\n",
       "      <td>0.845166</td>\n",
       "      <td>0.881339</td>\n",
       "    </tr>\n",
       "    <tr>\n",
       "      <th>15</th>\n",
       "      <td>0.323040</td>\n",
       "      <td>0.237658</td>\n",
       "      <td>0.855646</td>\n",
       "      <td>0.916836</td>\n",
       "    </tr>\n",
       "    <tr>\n",
       "      <th>16</th>\n",
       "      <td>0.325253</td>\n",
       "      <td>0.197070</td>\n",
       "      <td>0.853617</td>\n",
       "      <td>0.915821</td>\n",
       "    </tr>\n",
       "    <tr>\n",
       "      <th>17</th>\n",
       "      <td>0.396709</td>\n",
       "      <td>0.191111</td>\n",
       "      <td>0.816768</td>\n",
       "      <td>0.929006</td>\n",
       "    </tr>\n",
       "    <tr>\n",
       "      <th>18</th>\n",
       "      <td>0.320802</td>\n",
       "      <td>0.217117</td>\n",
       "      <td>0.859703</td>\n",
       "      <td>0.902637</td>\n",
       "    </tr>\n",
       "    <tr>\n",
       "      <th>19</th>\n",
       "      <td>0.292524</td>\n",
       "      <td>0.171110</td>\n",
       "      <td>0.867816</td>\n",
       "      <td>0.939148</td>\n",
       "    </tr>\n",
       "    <tr>\n",
       "      <th>20</th>\n",
       "      <td>0.308721</td>\n",
       "      <td>0.185431</td>\n",
       "      <td>0.863083</td>\n",
       "      <td>0.932049</td>\n",
       "    </tr>\n",
       "    <tr>\n",
       "      <th>21</th>\n",
       "      <td>0.300065</td>\n",
       "      <td>0.475560</td>\n",
       "      <td>0.859703</td>\n",
       "      <td>0.740365</td>\n",
       "    </tr>\n",
       "    <tr>\n",
       "      <th>22</th>\n",
       "      <td>0.378186</td>\n",
       "      <td>0.184257</td>\n",
       "      <td>0.832319</td>\n",
       "      <td>0.944219</td>\n",
       "    </tr>\n",
       "    <tr>\n",
       "      <th>23</th>\n",
       "      <td>0.271465</td>\n",
       "      <td>0.157995</td>\n",
       "      <td>0.891819</td>\n",
       "      <td>0.948276</td>\n",
       "    </tr>\n",
       "    <tr>\n",
       "      <th>24</th>\n",
       "      <td>0.245811</td>\n",
       "      <td>0.161850</td>\n",
       "      <td>0.896552</td>\n",
       "      <td>0.950304</td>\n",
       "    </tr>\n",
       "  </tbody>\n",
       "</table>\n",
       "</div>"
      ],
      "text/plain": [
       "    Costo de Entrenamiento  Costo de Validación  Precisión del Entrenamiento  \\\n",
       "0                 1.021070             0.446301                     0.563218   \n",
       "1                 0.529430             0.578603                     0.753888   \n",
       "2                 0.537686             0.403038                     0.723462   \n",
       "3                 0.474922             0.332125                     0.783300   \n",
       "4                 0.443296             0.312038                     0.798174   \n",
       "5                 0.440682             0.311597                     0.800541   \n",
       "6                 0.435189             0.290542                     0.797836   \n",
       "7                 0.404070             0.282291                     0.809331   \n",
       "8                 0.381010             0.314023                     0.823867   \n",
       "9                 0.386987             0.266494                     0.820487   \n",
       "10                0.359205             0.293760                     0.835024   \n",
       "11                0.362902             0.246047                     0.829953   \n",
       "12                0.340267             0.499690                     0.840095   \n",
       "13                0.379522             0.242346                     0.826234   \n",
       "14                0.324664             0.284520                     0.845166   \n",
       "15                0.323040             0.237658                     0.855646   \n",
       "16                0.325253             0.197070                     0.853617   \n",
       "17                0.396709             0.191111                     0.816768   \n",
       "18                0.320802             0.217117                     0.859703   \n",
       "19                0.292524             0.171110                     0.867816   \n",
       "20                0.308721             0.185431                     0.863083   \n",
       "21                0.300065             0.475560                     0.859703   \n",
       "22                0.378186             0.184257                     0.832319   \n",
       "23                0.271465             0.157995                     0.891819   \n",
       "24                0.245811             0.161850                     0.896552   \n",
       "\n",
       "    Precisión de la Validación  \n",
       "0                     0.807302  \n",
       "1                     0.665314  \n",
       "2                     0.839757  \n",
       "3                     0.860041  \n",
       "4                     0.873225  \n",
       "5                     0.873225  \n",
       "6                     0.879310  \n",
       "7                     0.885396  \n",
       "8                     0.886410  \n",
       "9                     0.909736  \n",
       "10                    0.881339  \n",
       "11                    0.897566  \n",
       "12                    0.741379  \n",
       "13                    0.899594  \n",
       "14                    0.881339  \n",
       "15                    0.916836  \n",
       "16                    0.915821  \n",
       "17                    0.929006  \n",
       "18                    0.902637  \n",
       "19                    0.939148  \n",
       "20                    0.932049  \n",
       "21                    0.740365  \n",
       "22                    0.944219  \n",
       "23                    0.948276  \n",
       "24                    0.950304  "
      ]
     },
     "execution_count": 12,
     "metadata": {},
     "output_type": "execute_result"
    }
   ],
   "source": [
    "loss_train = history.history['loss']\n",
    "loss_val = history.history['val_loss']\n",
    "\n",
    "acc_train = history.history['accuracy']\n",
    "acc_val = history.history['val_accuracy']\n",
    "\n",
    "dic = {'Costo de Entrenamiento':loss_train,'Costo de Validación':loss_val,\n",
    "       'Precisión del Entrenamiento':acc_train,'Precisión de la Validación':acc_val}\n",
    "data = pd.DataFrame(dic)\n",
    "data"
   ]
  },
  {
   "cell_type": "code",
   "execution_count": 13,
   "metadata": {
    "ExecuteTime": {
     "end_time": "2021-03-24T18:25:47.516104Z",
     "start_time": "2021-03-24T18:25:47.399Z"
    }
   },
   "outputs": [],
   "source": [
    "def testing_image(image_directory): \n",
    "    test_image = image.load_img(image_directory, target_size = (150,150))\n",
    "    test_image = image.img_to_array(test_image)\n",
    "    test_image = np.expand_dims(test_image, axis = 0)\n",
    "    result = Model.predict(x=test_image)\n",
    "    if result[0][0] == 1:\n",
    "        prediction = 'Benigno'\n",
    "    else:\n",
    "        prediction = 'Maligno'\n",
    "    return prediction"
   ]
  },
  {
   "cell_type": "code",
   "execution_count": 14,
   "metadata": {
    "ExecuteTime": {
     "end_time": "2021-03-24T18:25:47.518104Z",
     "start_time": "2021-03-24T18:25:47.402Z"
    }
   },
   "outputs": [
    {
     "ename": "NameError",
     "evalue": "name 'random' is not defined",
     "output_type": "error",
     "traceback": [
      "\u001b[1;31m---------------------------------------------------------------------------\u001b[0m",
      "\u001b[1;31mNameError\u001b[0m                                 Traceback (most recent call last)",
      "\u001b[1;32m<ipython-input-14-a0b7b1547ba6>\u001b[0m in \u001b[0;36m<module>\u001b[1;34m\u001b[0m\n\u001b[0;32m      2\u001b[0m \u001b[0mY\u001b[0m \u001b[1;33m=\u001b[0m \u001b[1;33m[\u001b[0m\u001b[1;33m]\u001b[0m\u001b[1;33m\u001b[0m\u001b[1;33m\u001b[0m\u001b[0m\n\u001b[0;32m      3\u001b[0m \u001b[1;32mfor\u001b[0m \u001b[0ml\u001b[0m \u001b[1;32min\u001b[0m \u001b[0mrange\u001b[0m\u001b[1;33m(\u001b[0m\u001b[1;36m200\u001b[0m\u001b[1;33m)\u001b[0m\u001b[1;33m:\u001b[0m\u001b[1;33m\u001b[0m\u001b[1;33m\u001b[0m\u001b[0m\n\u001b[1;32m----> 4\u001b[1;33m     \u001b[0mnr\u001b[0m \u001b[1;33m=\u001b[0m \u001b[0mrandom\u001b[0m\u001b[1;33m.\u001b[0m\u001b[0mrandint\u001b[0m\u001b[1;33m(\u001b[0m\u001b[1;36m1\u001b[0m\u001b[1;33m,\u001b[0m\u001b[1;36m986\u001b[0m\u001b[1;33m)\u001b[0m\u001b[1;33m\u001b[0m\u001b[1;33m\u001b[0m\u001b[0m\n\u001b[0m\u001b[0;32m      5\u001b[0m     \u001b[0my_i\u001b[0m \u001b[1;33m=\u001b[0m \u001b[0mtesting_image\u001b[0m\u001b[1;33m(\u001b[0m\u001b[0mtest_dir\u001b[0m\u001b[1;33m+\u001b[0m\u001b[1;34m\"/im (\"\u001b[0m\u001b[1;33m+\u001b[0m\u001b[0mstr\u001b[0m\u001b[1;33m(\u001b[0m\u001b[0mnr\u001b[0m\u001b[1;33m)\u001b[0m\u001b[1;33m+\u001b[0m\u001b[1;34m\").png\"\u001b[0m\u001b[1;33m)\u001b[0m\u001b[1;33m\u001b[0m\u001b[1;33m\u001b[0m\u001b[0m\n\u001b[0;32m      6\u001b[0m     \u001b[0mnum_i\u001b[0m \u001b[1;33m=\u001b[0m \u001b[0mstr\u001b[0m\u001b[1;33m(\u001b[0m\u001b[0mnr\u001b[0m\u001b[1;33m)\u001b[0m\u001b[1;33m\u001b[0m\u001b[1;33m\u001b[0m\u001b[0m\n",
      "\u001b[1;31mNameError\u001b[0m: name 'random' is not defined"
     ]
    }
   ],
   "source": [
    "nom = []\n",
    "Y = [] \n",
    "for l in range(200):\n",
    "    nr = random.randint(1,986)\n",
    "    y_i = testing_image(test_dir+\"/im (\"+str(nr)+\").png\")\n",
    "    num_i = str(nr)\n",
    "    Y.append(y_i)\n",
    "    nom.append(num_i)"
   ]
  },
  {
   "cell_type": "code",
   "execution_count": null,
   "metadata": {
    "ExecuteTime": {
     "end_time": "2021-03-24T18:25:47.520103Z",
     "start_time": "2021-03-24T18:25:47.405Z"
    }
   },
   "outputs": [],
   "source": [
    "dic2 = {'Número de la imagen':nom,\n",
    "       'Predicción':Y}\n",
    "data2 = pd.DataFrame(dic2)\n",
    "data2"
   ]
  },
  {
   "cell_type": "code",
   "execution_count": null,
   "metadata": {
    "ExecuteTime": {
     "end_time": "2021-03-24T18:25:47.521103Z",
     "start_time": "2021-03-24T18:25:47.408Z"
    }
   },
   "outputs": [],
   "source": [
    "fig = plt.figure(figsize=(18, 6))\n",
    "plt.subplot(1, 2, 1)\n",
    "loss_train = history.history['loss']\n",
    "loss_val = history.history['val_loss']\n",
    "epochs = range(1,len(loss_val)+1)\n",
    "plt.plot(epochs, loss_train, 'r', label='Costo de entrenamiento')\n",
    "plt.plot(epochs, loss_val, 'b', label='Costo de validación')\n",
    "plt.title('Costo de Validación y Entrenamiento')\n",
    "plt.xlabel('Epoca')\n",
    "plt.ylabel('Costo')\n",
    "plt.grid()\n",
    "plt.legend()\n",
    "\n",
    "plt.subplot(1, 2, 2)\n",
    "acc_train = history.history['accuracy']\n",
    "acc_val = history.history['val_accuracy']\n",
    "epochs = range(1,len(acc_val)+1)\n",
    "plt.plot(epochs, acc_train, 'g', label='Precisión de entrenamiento')\n",
    "plt.plot(epochs, acc_val, 'b', label='Presición de validación')\n",
    "plt.title('Presición de Validación y Entrenamiento')\n",
    "plt.xlabel('Epoca')\n",
    "plt.ylabel('Precisión')\n",
    "plt.grid()\n",
    "plt.legend()\n",
    "plt.show()"
   ]
  },
  {
   "cell_type": "code",
   "execution_count": null,
   "metadata": {
    "ExecuteTime": {
     "end_time": "2021-03-24T18:25:47.523104Z",
     "start_time": "2021-03-24T18:25:47.411Z"
    }
   },
   "outputs": [],
   "source": [
    "data2.to_csv('data2.csv')"
   ]
  },
  {
   "cell_type": "code",
   "execution_count": null,
   "metadata": {
    "ExecuteTime": {
     "end_time": "2021-03-24T18:25:47.524104Z",
     "start_time": "2021-03-24T18:25:47.414Z"
    }
   },
   "outputs": [],
   "source": [
    "data.to_csv('data.csv')"
   ]
  },
  {
   "cell_type": "code",
   "execution_count": null,
   "metadata": {},
   "outputs": [],
   "source": []
  }
 ],
 "metadata": {
  "kernelspec": {
   "display_name": "Python 3",
   "language": "python",
   "name": "python3"
  },
  "language_info": {
   "codemirror_mode": {
    "name": "ipython",
    "version": 3
   },
   "file_extension": ".py",
   "mimetype": "text/x-python",
   "name": "python",
   "nbconvert_exporter": "python",
   "pygments_lexer": "ipython3",
   "version": "3.7.5"
  },
  "latex_envs": {
   "LaTeX_envs_menu_present": true,
   "autoclose": true,
   "autocomplete": true,
   "bibliofile": "biblio.bib",
   "cite_by": "apalike",
   "current_citInitial": 1,
   "eqLabelWithNumbers": true,
   "eqNumInitial": 1,
   "hotkeys": {
    "equation": "Ctrl-E",
    "itemize": "Ctrl-I"
   },
   "labels_anchors": false,
   "latex_user_defs": false,
   "report_style_numbering": false,
   "user_envs_cfg": false
  },
  "toc": {
   "base_numbering": 1,
   "nav_menu": {},
   "number_sections": true,
   "sideBar": true,
   "skip_h1_title": false,
   "title_cell": "Table of Contents",
   "title_sidebar": "Contents",
   "toc_cell": false,
   "toc_position": {},
   "toc_section_display": true,
   "toc_window_display": false
  },
  "varInspector": {
   "cols": {
    "lenName": 16,
    "lenType": 16,
    "lenVar": 40
   },
   "kernels_config": {
    "python": {
     "delete_cmd_postfix": "",
     "delete_cmd_prefix": "del ",
     "library": "var_list.py",
     "varRefreshCmd": "print(var_dic_list())"
    },
    "r": {
     "delete_cmd_postfix": ") ",
     "delete_cmd_prefix": "rm(",
     "library": "var_list.r",
     "varRefreshCmd": "cat(var_dic_list()) "
    }
   },
   "types_to_exclude": [
    "module",
    "function",
    "builtin_function_or_method",
    "instance",
    "_Feature"
   ],
   "window_display": false
  }
 },
 "nbformat": 4,
 "nbformat_minor": 4
}
